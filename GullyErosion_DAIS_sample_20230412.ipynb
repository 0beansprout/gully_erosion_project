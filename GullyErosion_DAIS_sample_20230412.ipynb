{
 "cells": [
  {
   "cell_type": "markdown",
   "metadata": {},
   "source": [
    "### Import package "
   ]
  },
  {
   "cell_type": "code",
   "execution_count": 14,
   "metadata": {},
   "outputs": [],
   "source": [
    "import os, rasterio, geopandas as gpd, rioxarray as rxr\n",
    "import geopandas as gpd, contextily as ctx, numpy as np, pandas as pd\n",
    "import matplotlib.pyplot as plt, numpy as np, seaborn as sns\n",
    "\n",
    "from osgeo import gdal, gdal_array\n",
    "from rasterio import plot as rasterplot\n",
    "from matplotlib.colors import LinearSegmentedColormap\n",
    "from matplotlib import cm\n",
    "from matplotlib.colors import Normalize \n",
    "from matplotlib.ticker import PercentFormatter"
   ]
  },
  {
   "cell_type": "markdown",
   "metadata": {},
   "source": [
    "### Function"
   ]
  },
  {
   "cell_type": "code",
   "execution_count": 3,
   "metadata": {},
   "outputs": [],
   "source": [
    "# return a list of files containing given strings at the beginning and end\n",
    "def getFileList(path=None, start=None, end=None):\n",
    "    file_list = os.listdir(path)\n",
    "    file_list = [i for i in file_list if i.startswith(start) and i.endswith(end)]\n",
    "    return file_list\n",
    "\n",
    "# return a list of files containing given strings at the end\n",
    "def getFileList_end(path=None, end=None):\n",
    "    file_list = os.listdir(path)\n",
    "    file_list = [i for i in file_list if i.endswith(end)]\n",
    "    return file_list\n",
    "\n",
    "# return a list of files containing given strings at the beginning\n",
    "def getFileList_start(path=None, start=None):\n",
    "    file_list = os.listdir(path)\n",
    "    file_list = [i for i in file_list if i.startswith(start)]\n",
    "    return file_list"
   ]
  },
  {
   "attachments": {},
   "cell_type": "markdown",
   "metadata": {},
   "source": [
    "### Plot raster file"
   ]
  },
  {
   "attachments": {},
   "cell_type": "markdown",
   "metadata": {},
   "source": [
    "*Plot a raster file of categorical variable (e.g., Aspect)*"
   ]
  },
  {
   "cell_type": "code",
   "execution_count": null,
   "metadata": {},
   "outputs": [],
   "source": [
    "fig_path = r'E:\\02_Research\\01_Codes\\04-DAIS\\GullyErosion_2023_Spring\\figure' \n",
    "base_path = r'E:\\02_Research\\01_Codes\\04-DAIS\\GullyErosion_2023_Spring\\input' # top-level (root) path for input data\n",
    "wk_path = os.path.join(base_path, '05-LandCover') # folder containing input raster files\n",
    "file_ls = getFileList_end(path = wk_path, end=\".tif\") # get a list of files within the given paht\n",
    "\n",
    "\n",
    "# file_ls = file_ls[:1]\n",
    "\n",
    "\n",
    "for file in file_ls:\n",
    "    ras = rxr.open_rasterio(os.path.join(wk_path, file), masked=True).squeeze() # read a raster file using 'rioxarray' library\n",
    "\n",
    "    fig, ax = plt.subplots(figsize=(8,6))\n",
    "    ras.plot.imshow(cmap='Paired') #https://matplotlib.org/stable/tutorials/colors/colormaps.html\n",
    "    ax.set(title=\" \")\n",
    "    ax.set_axis_off()\n",
    "    ax.set_title(f\"{file[:-4]}\")\n",
    "    \n",
    "    # Save the figure as *.png format\n",
    "    out_fig = os.path.join(fig_path, f\"{file[:-4]}_categ.png\")\n",
    "    plt.savefig(out_fig, dpi = 500)\n",
    "    plt.close() # close a figure window\n",
    "print(\"Done\")   "
   ]
  },
  {
   "attachments": {},
   "cell_type": "markdown",
   "metadata": {},
   "source": [
    "*Plot a raster file of numerical (continuous) variable (e.g., Slope)*"
   ]
  },
  {
   "cell_type": "code",
   "execution_count": null,
   "metadata": {},
   "outputs": [],
   "source": [
    "fig_path = r'E:\\02_Research\\01_Codes\\04-DAIS\\GullyErosion_2023_Spring\\figure'\n",
    "base_path = r'E:\\02_Research\\01_Codes\\04-DAIS\\GullyErosion_2023_Spring\\input' # top-level (root) path for input data\n",
    "wk_path = os.path.join(base_path, '02-LAI') # folder containing input raster files\n",
    "file_ls = getFileList_end(path = wk_path, end=\".tif\") # get a list of files within the given paht\n",
    "\n",
    "\n",
    "\n",
    "# # Initialize variables to store minimum and maximum values across all files\n",
    "# global_min = np.inf\n",
    "# global_max = -np.inf\n",
    "\n",
    "# # Loop through files to find the minimum and maximum values across all files\n",
    "# for file in file_ls:\n",
    "#     ras = rxr.open_rasterio(os.path.join(wk_path, file), masked=True).squeeze()\n",
    "#     file_min = ras.min()\n",
    "#     file_max = ras.max()\n",
    "#     if file_min < global_min:\n",
    "#         global_min = file_min\n",
    "#     if file_max > global_max:\n",
    "#         global_max = file_max\n",
    "\n",
    "\n",
    "\n",
    "# file_ls = ['Slope_degree_LT_30.tif']\n",
    "\n",
    "for file in file_ls:\n",
    "    ras = rxr.open_rasterio(os.path.join(wk_path, file), masked=True).squeeze() # read a raster file using 'rioxarray' library\n",
    "    \n",
    "    fix, ax = plt.subplots(figsize=(8,6))\n",
    "    ras.plot.imshow(cmap='Spectral') #https://matplotlib.org/stable/tutorials/colors/colormaps.html\n",
    "    # ras.plot.imshow(cmap='Spectral', vmin=global_min, vmax=global_max)\n",
    "    ax.set(title=\" \")\n",
    "    ax.set_axis_off()\n",
    "    ax.set_title(f\"{file[:-4]}\")\n",
    "    # 70 380\n",
    "    # Save the figure as *.png format\n",
    "    out_fig = os.path.join(fig_path, f\"{file[:-4]}_continu_new.png\")\n",
    "    plt.savefig(out_fig, dpi = 500)\n",
    "    plt. close() # close a figure window\n",
    "print(\"Done\")   "
   ]
  },
  {
   "attachments": {},
   "cell_type": "markdown",
   "metadata": {},
   "source": [
    "### Plot point shapefile (vector image) uring geopandas"
   ]
  },
  {
   "cell_type": "code",
   "execution_count": null,
   "metadata": {},
   "outputs": [],
   "source": [
    "# data path \n",
    "gully_path = r'E:\\02_Research\\01_Codes\\04-DAIS\\GullyErosion_2023_Spring\\input\\00-Gully_location\\revised_high_GT_12.shp'\n",
    "\n",
    "# Read the shapefile into a GeoDataFrame:\n",
    "gully = gpd.read_file(gully_path)\n",
    "\n",
    "# check the CRS of a GeoPandas GeoDataFrame\n",
    "print(gully.crs)\n",
    "\n",
    "# Plot the GeoDataFrame using Matplotlib:\n",
    "fig, ax = plt.subplots(figsize=(10,10))\n",
    "ax.set_aspect('equal')\n",
    "gully.plot(ax=ax, marker='o', color='red', markersize=5)\n",
    "\n",
    "# add a background using Contextily\n",
    "# ctx.add_basemap(ax=ax, crs=gully.crs.to_string(), source=ctx.providers.Stamen.TonerLite)  # map\n",
    "ctx.add_basemap(ax=ax, crs=gully.crs.to_string(), source=ctx.providers.Esri.WorldImagery) # satellite image\n",
    "\n",
    "# # Save the figure as *.png format\n",
    "out_fig = os.path.join(fig_path, \"gully_erosion_location_satellite.png\")\n",
    "plt.savefig(out_fig, dpi = 500)\n",
    "# plt. close() # close a figure window\n",
    "\n",
    "\n",
    "plt.show()"
   ]
  },
  {
   "attachments": {},
   "cell_type": "markdown",
   "metadata": {},
   "source": [
    "### Plot raster and point file"
   ]
  },
  {
   "cell_type": "code",
   "execution_count": null,
   "metadata": {},
   "outputs": [],
   "source": [
    "fig_path = r'E:\\02_Research\\01_Codes\\04-DAIS\\GullyErosion_2023_Spring\\figure'\n",
    "base_path = r'E:\\02_Research\\01_Codes\\04-DAIS\\GullyErosion_2023_Spring\\input' # top-level (root) path for input data\n",
    "gully_path = r'E:\\02_Research\\01_Codes\\04-DAIS\\GullyErosion_2023_Spring\\input\\00-Gully_location\\revised_high_GT_12.shp'\n",
    "wk_path = os.path.join(base_path, '01-topography') # folder containing input raster files\n",
    "file_ls = getFileList_end(path = wk_path, end=\".tif\") # get a list of files within the given paht\n",
    "\n",
    "file_ls = ['Slope_degree_LT_30.tif']\n",
    "\n",
    "for file in file_ls:\n",
    "    # Read in the raster data using rioxarray:\n",
    "    raster = rxr.open_rasterio(os.path.join(wk_path, file), masked=True).squeeze()\n",
    "\n",
    "    # Read in the point shapefile using geopandas:\n",
    "    points = gpd.read_file(gully_path)\n",
    "\n",
    "    fig, ax = plt.subplots(figsize=(10, 10))\n",
    "\n",
    "    # Plot the raster data using plot.imshow:\n",
    "    raster.plot.imshow(ax=ax, cmap='Accent')\n",
    "    \n",
    "    # Plot the point shapefile on the same axis using plot:\n",
    "    points.plot(ax=ax, markersize=7, color='red')\n",
    "\n",
    "    # Set the x and y limits of the plot to match the extent of the raster data:\n",
    "    ax.set_xlim([raster.x.min(), raster.x.max()])\n",
    "    ax.set_ylim([raster.y.min(), raster.y.max()])\n",
    "\n",
    "    plt.show()\n",
    "    \n",
    "    # # Save the figure as *.png format\n",
    "    # out_fig = os.path.join(fig_path, \"slope_point.png\")\n",
    "    # plt.savefig(out_fig, dpi = 500)\n",
    "    # plt. close() # close a figure window\n",
    "print(\"Done\")   "
   ]
  },
  {
   "cell_type": "code",
   "execution_count": null,
   "metadata": {},
   "outputs": [],
   "source": [
    "fig_path = r'E:\\02_Research\\01_Codes\\04-DAIS\\GullyErosion_2023_Spring\\figure'\n",
    "base_path = r'E:\\02_Research\\01_Codes\\04-DAIS\\GullyErosion_2023_Spring\\input' # top-level (root) path for input data\n",
    "wk_path = os.path.join(base_path, '01-topography') # folder containing input raster files\n",
    "file_ls = getFileList_end(path = wk_path, end=\".tif\") # get a list of files within the given paht\n",
    "\n",
    "# file_ls = ['Slope_degree_LT_30.tif']\n",
    "\n",
    "for file in file_ls:\n",
    "    ras = rxr.open_rasterio(os.path.join(wk_path, file), masked=True).squeeze() # read a raster file using 'rioxarray' library\n",
    "    \n",
    "    fix, ax = plt.subplots(figsize=(8,6))\n",
    "    ras.plot.imshow(cmap='Spectral') #https://matplotlib.org/stable/tutorials/colors/colormaps.html\n",
    "    ax.set(title=\" \")\n",
    "    ax.set_axis_off()\n",
    "    ax.set_title(f\"{file[:-4]}\")\n",
    "    \n",
    "    # Save the figure as *.png format\n",
    "    out_fig = os.path.join(fig_path, f\"{file[:-4]}.png\")\n",
    "    plt.savefig(out_fig, dpi = 500)\n",
    "    plt. close() # close a figure window\n",
    "print(\"Done\")   "
   ]
  },
  {
   "cell_type": "markdown",
   "metadata": {},
   "source": [
    "### Calculate correlation"
   ]
  },
  {
   "cell_type": "code",
   "execution_count": 3,
   "metadata": {},
   "outputs": [],
   "source": [
    "import xarray as xr, seaborn as sns, matplotlib.pyplot as plt, pandas as pd\n",
    "from scipy.stats import pearsonr"
   ]
  },
  {
   "cell_type": "code",
   "execution_count": 4,
   "metadata": {},
   "outputs": [],
   "source": [
    "os.chdir(r'E:\\02_Research\\01_Codes\\04-DAIS\\GullyErosion_2023_Spring\\input\\03-Precip\\seasonal_max_pcp')\n",
    "\n",
    "# Read raster files\n",
    "ndvi = rxr.open_rasterio(\"fall_max.tif\", masked=True).squeeze()\n",
    "lai = rxr.open_rasterio(\"spring_max.tif\", masked=True).squeeze()\n",
    "dem = rxr.open_rasterio(\"summer_max.tif\", masked=True).squeeze()\n",
    "precipitation = rxr.open_rasterio(\"winter_max.tif\", masked=True).squeeze()"
   ]
  },
  {
   "cell_type": "code",
   "execution_count": 5,
   "metadata": {},
   "outputs": [
    {
     "name": "stdout",
     "output_type": "stream",
     "text": [
      "<class 'xarray.core.dataarray.DataArray'>\n"
     ]
    },
    {
     "data": {
      "text/plain": [
       "(None,\n",
       " <xarray.DataArray (y: 16209, x: 20732)>\n",
       " [336044988 values with dtype=float32]\n",
       " Coordinates:\n",
       "     band         int32 1\n",
       "   * x            (x) float64 -89.15 -89.15 -89.15 -89.15 ... -88.7 -88.7 -88.7\n",
       "   * y            (y) float64 38.48 38.48 38.48 38.48 ... 38.12 38.12 38.12 38.12\n",
       "     spatial_ref  int32 0\n",
       " Attributes:\n",
       "     RepresentationType:      ATHEMATIC\n",
       "     STATISTICS_COVARIANCES:  97.76097769704869\n",
       "     STATISTICS_MAXIMUM:      110.9953918457\n",
       "     STATISTICS_MEAN:         84.1706396782\n",
       "     STATISTICS_MINIMUM:      62.677444458008\n",
       "     STATISTICS_SKIPFACTORX:  1\n",
       "     STATISTICS_SKIPFACTORY:  1\n",
       "     STATISTICS_STDDEV:       9.8874151170591\n",
       "     scale_factor:            1.0\n",
       "     add_offset:              0.0)"
      ]
     },
     "execution_count": 5,
     "metadata": {},
     "output_type": "execute_result"
    }
   ],
   "source": [
    "print(type(dem)), dem"
   ]
  },
  {
   "cell_type": "code",
   "execution_count": 6,
   "metadata": {},
   "outputs": [],
   "source": [
    "# Convert to np masked arrays and flatten\n",
    "ndvi_arr = ndvi.to_masked_array().flatten()\n",
    "lai_arr = lai.to_masked_array().flatten()\n",
    "dem_arr = dem.to_masked_array().flatten()\n",
    "precip_arr = precipitation.to_masked_array().flatten()\n"
   ]
  },
  {
   "cell_type": "code",
   "execution_count": 7,
   "metadata": {},
   "outputs": [
    {
     "name": "stdout",
     "output_type": "stream",
     "text": [
      "<class 'numpy.ma.core.MaskedArray'>\n"
     ]
    },
    {
     "data": {
      "text/plain": [
       "(None,\n",
       " masked_array(data=[--, --, --, ..., --, --, --],\n",
       "              mask=[ True,  True,  True, ...,  True,  True,  True],\n",
       "        fill_value=1e+20,\n",
       "             dtype=float32))"
      ]
     },
     "execution_count": 7,
     "metadata": {},
     "output_type": "execute_result"
    }
   ],
   "source": [
    "print(type(dem_arr)), dem_arr"
   ]
  },
  {
   "cell_type": "code",
   "execution_count": 8,
   "metadata": {},
   "outputs": [
    {
     "data": {
      "text/html": [
       "<div>\n",
       "<style scoped>\n",
       "    .dataframe tbody tr th:only-of-type {\n",
       "        vertical-align: middle;\n",
       "    }\n",
       "\n",
       "    .dataframe tbody tr th {\n",
       "        vertical-align: top;\n",
       "    }\n",
       "\n",
       "    .dataframe thead th {\n",
       "        text-align: right;\n",
       "    }\n",
       "</style>\n",
       "<table border=\"1\" class=\"dataframe\">\n",
       "  <thead>\n",
       "    <tr style=\"text-align: right;\">\n",
       "      <th></th>\n",
       "      <th>NDVI</th>\n",
       "      <th>LAI</th>\n",
       "      <th>DEM</th>\n",
       "      <th>Precipitation</th>\n",
       "    </tr>\n",
       "  </thead>\n",
       "  <tbody>\n",
       "    <tr>\n",
       "      <th>0</th>\n",
       "      <td>NaN</td>\n",
       "      <td>NaN</td>\n",
       "      <td>NaN</td>\n",
       "      <td>NaN</td>\n",
       "    </tr>\n",
       "    <tr>\n",
       "      <th>1</th>\n",
       "      <td>NaN</td>\n",
       "      <td>NaN</td>\n",
       "      <td>NaN</td>\n",
       "      <td>NaN</td>\n",
       "    </tr>\n",
       "    <tr>\n",
       "      <th>2</th>\n",
       "      <td>NaN</td>\n",
       "      <td>NaN</td>\n",
       "      <td>NaN</td>\n",
       "      <td>NaN</td>\n",
       "    </tr>\n",
       "    <tr>\n",
       "      <th>3</th>\n",
       "      <td>NaN</td>\n",
       "      <td>NaN</td>\n",
       "      <td>NaN</td>\n",
       "      <td>NaN</td>\n",
       "    </tr>\n",
       "    <tr>\n",
       "      <th>4</th>\n",
       "      <td>NaN</td>\n",
       "      <td>NaN</td>\n",
       "      <td>NaN</td>\n",
       "      <td>NaN</td>\n",
       "    </tr>\n",
       "    <tr>\n",
       "      <th>...</th>\n",
       "      <td>...</td>\n",
       "      <td>...</td>\n",
       "      <td>...</td>\n",
       "      <td>...</td>\n",
       "    </tr>\n",
       "    <tr>\n",
       "      <th>336044983</th>\n",
       "      <td>NaN</td>\n",
       "      <td>NaN</td>\n",
       "      <td>NaN</td>\n",
       "      <td>NaN</td>\n",
       "    </tr>\n",
       "    <tr>\n",
       "      <th>336044984</th>\n",
       "      <td>NaN</td>\n",
       "      <td>NaN</td>\n",
       "      <td>NaN</td>\n",
       "      <td>NaN</td>\n",
       "    </tr>\n",
       "    <tr>\n",
       "      <th>336044985</th>\n",
       "      <td>NaN</td>\n",
       "      <td>NaN</td>\n",
       "      <td>NaN</td>\n",
       "      <td>NaN</td>\n",
       "    </tr>\n",
       "    <tr>\n",
       "      <th>336044986</th>\n",
       "      <td>NaN</td>\n",
       "      <td>NaN</td>\n",
       "      <td>NaN</td>\n",
       "      <td>NaN</td>\n",
       "    </tr>\n",
       "    <tr>\n",
       "      <th>336044987</th>\n",
       "      <td>NaN</td>\n",
       "      <td>NaN</td>\n",
       "      <td>NaN</td>\n",
       "      <td>NaN</td>\n",
       "    </tr>\n",
       "  </tbody>\n",
       "</table>\n",
       "<p>336044988 rows × 4 columns</p>\n",
       "</div>"
      ],
      "text/plain": [
       "           NDVI  LAI  DEM  Precipitation\n",
       "0           NaN  NaN  NaN            NaN\n",
       "1           NaN  NaN  NaN            NaN\n",
       "2           NaN  NaN  NaN            NaN\n",
       "3           NaN  NaN  NaN            NaN\n",
       "4           NaN  NaN  NaN            NaN\n",
       "...         ...  ...  ...            ...\n",
       "336044983   NaN  NaN  NaN            NaN\n",
       "336044984   NaN  NaN  NaN            NaN\n",
       "336044985   NaN  NaN  NaN            NaN\n",
       "336044986   NaN  NaN  NaN            NaN\n",
       "336044987   NaN  NaN  NaN            NaN\n",
       "\n",
       "[336044988 rows x 4 columns]"
      ]
     },
     "execution_count": 8,
     "metadata": {},
     "output_type": "execute_result"
    }
   ],
   "source": [
    "# Create a pandas DataFrame with the raster data\n",
    "df = pd.DataFrame({'NDVI': ndvi_arr, 'LAI': lai_arr, 'DEM': dem_arr, 'Precipitation': precip_arr})\n",
    "df"
   ]
  },
  {
   "cell_type": "code",
   "execution_count": 9,
   "metadata": {},
   "outputs": [],
   "source": [
    "# Remove masked values (no-data)\n",
    "valid_data = (~ndvi_arr.mask) & (~lai_arr.mask) & (~dem_arr.mask) & (~precip_arr.mask)\n",
    "ndvi_arr = ndvi_arr[valid_data].data\n",
    "lai_arr = lai_arr[valid_data].data\n",
    "dem_arr = dem_arr[valid_data].data\n",
    "precip_arr = precip_arr[valid_data].data\n"
   ]
  },
  {
   "cell_type": "code",
   "execution_count": 10,
   "metadata": {},
   "outputs": [
    {
     "name": "stdout",
     "output_type": "stream",
     "text": [
      "<class 'numpy.ndarray'>\n"
     ]
    },
    {
     "data": {
      "text/plain": [
       "(None,\n",
       " array([87.6621 , 87.6621 , 87.6621 , ..., 91.04195, 93.26325, 93.26325],\n",
       "       dtype=float32))"
      ]
     },
     "execution_count": 10,
     "metadata": {},
     "output_type": "execute_result"
    }
   ],
   "source": [
    "print(type(dem_arr)), dem_arr"
   ]
  },
  {
   "cell_type": "code",
   "execution_count": 14,
   "metadata": {},
   "outputs": [
    {
     "data": {
      "text/html": [
       "<div>\n",
       "<style scoped>\n",
       "    .dataframe tbody tr th:only-of-type {\n",
       "        vertical-align: middle;\n",
       "    }\n",
       "\n",
       "    .dataframe tbody tr th {\n",
       "        vertical-align: top;\n",
       "    }\n",
       "\n",
       "    .dataframe thead th {\n",
       "        text-align: right;\n",
       "    }\n",
       "</style>\n",
       "<table border=\"1\" class=\"dataframe\">\n",
       "  <thead>\n",
       "    <tr style=\"text-align: right;\">\n",
       "      <th></th>\n",
       "      <th>NDVI</th>\n",
       "      <th>LAI</th>\n",
       "      <th>DEM</th>\n",
       "      <th>Precipitation</th>\n",
       "    </tr>\n",
       "  </thead>\n",
       "  <tbody>\n",
       "    <tr>\n",
       "      <th>0</th>\n",
       "      <td>78.362999</td>\n",
       "      <td>58.763828</td>\n",
       "      <td>87.662102</td>\n",
       "      <td>64.445045</td>\n",
       "    </tr>\n",
       "    <tr>\n",
       "      <th>1</th>\n",
       "      <td>78.362999</td>\n",
       "      <td>58.763828</td>\n",
       "      <td>87.662102</td>\n",
       "      <td>64.445045</td>\n",
       "    </tr>\n",
       "    <tr>\n",
       "      <th>2</th>\n",
       "      <td>78.362999</td>\n",
       "      <td>58.763828</td>\n",
       "      <td>87.662102</td>\n",
       "      <td>64.445045</td>\n",
       "    </tr>\n",
       "    <tr>\n",
       "      <th>3</th>\n",
       "      <td>78.362999</td>\n",
       "      <td>58.763828</td>\n",
       "      <td>87.662102</td>\n",
       "      <td>64.445045</td>\n",
       "    </tr>\n",
       "    <tr>\n",
       "      <th>4</th>\n",
       "      <td>78.362999</td>\n",
       "      <td>58.763828</td>\n",
       "      <td>87.662102</td>\n",
       "      <td>64.445045</td>\n",
       "    </tr>\n",
       "    <tr>\n",
       "      <th>...</th>\n",
       "      <td>...</td>\n",
       "      <td>...</td>\n",
       "      <td>...</td>\n",
       "      <td>...</td>\n",
       "    </tr>\n",
       "    <tr>\n",
       "      <th>194708139</th>\n",
       "      <td>52.274727</td>\n",
       "      <td>67.432259</td>\n",
       "      <td>91.041946</td>\n",
       "      <td>78.736618</td>\n",
       "    </tr>\n",
       "    <tr>\n",
       "      <th>194708140</th>\n",
       "      <td>52.274727</td>\n",
       "      <td>67.432259</td>\n",
       "      <td>91.041946</td>\n",
       "      <td>78.736618</td>\n",
       "    </tr>\n",
       "    <tr>\n",
       "      <th>194708141</th>\n",
       "      <td>52.274727</td>\n",
       "      <td>67.432259</td>\n",
       "      <td>91.041946</td>\n",
       "      <td>78.736618</td>\n",
       "    </tr>\n",
       "    <tr>\n",
       "      <th>194708142</th>\n",
       "      <td>53.268345</td>\n",
       "      <td>66.221413</td>\n",
       "      <td>93.263252</td>\n",
       "      <td>80.230156</td>\n",
       "    </tr>\n",
       "    <tr>\n",
       "      <th>194708143</th>\n",
       "      <td>53.268345</td>\n",
       "      <td>66.221413</td>\n",
       "      <td>93.263252</td>\n",
       "      <td>80.230156</td>\n",
       "    </tr>\n",
       "  </tbody>\n",
       "</table>\n",
       "<p>194708144 rows × 4 columns</p>\n",
       "</div>"
      ],
      "text/plain": [
       "                NDVI        LAI        DEM  Precipitation\n",
       "0          78.362999  58.763828  87.662102      64.445045\n",
       "1          78.362999  58.763828  87.662102      64.445045\n",
       "2          78.362999  58.763828  87.662102      64.445045\n",
       "3          78.362999  58.763828  87.662102      64.445045\n",
       "4          78.362999  58.763828  87.662102      64.445045\n",
       "...              ...        ...        ...            ...\n",
       "194708139  52.274727  67.432259  91.041946      78.736618\n",
       "194708140  52.274727  67.432259  91.041946      78.736618\n",
       "194708141  52.274727  67.432259  91.041946      78.736618\n",
       "194708142  53.268345  66.221413  93.263252      80.230156\n",
       "194708143  53.268345  66.221413  93.263252      80.230156\n",
       "\n",
       "[194708144 rows x 4 columns]"
      ]
     },
     "execution_count": 14,
     "metadata": {},
     "output_type": "execute_result"
    }
   ],
   "source": [
    "# Create a pandas DataFrame with the raster data\n",
    "df = pd.DataFrame({'NDVI': ndvi_arr, 'LAI': lai_arr, 'DEM': dem_arr, 'Precipitation': precip_arr})\n"
   ]
  },
  {
   "cell_type": "code",
   "execution_count": 15,
   "metadata": {},
   "outputs": [
    {
     "data": {
      "text/html": [
       "<div>\n",
       "<style scoped>\n",
       "    .dataframe tbody tr th:only-of-type {\n",
       "        vertical-align: middle;\n",
       "    }\n",
       "\n",
       "    .dataframe tbody tr th {\n",
       "        vertical-align: top;\n",
       "    }\n",
       "\n",
       "    .dataframe thead th {\n",
       "        text-align: right;\n",
       "    }\n",
       "</style>\n",
       "<table border=\"1\" class=\"dataframe\">\n",
       "  <thead>\n",
       "    <tr style=\"text-align: right;\">\n",
       "      <th></th>\n",
       "      <th>NDVI</th>\n",
       "      <th>LAI</th>\n",
       "      <th>DEM</th>\n",
       "      <th>Precipitation</th>\n",
       "    </tr>\n",
       "  </thead>\n",
       "  <tbody>\n",
       "    <tr>\n",
       "      <th>NDVI</th>\n",
       "      <td>1.000000</td>\n",
       "      <td>-0.496821</td>\n",
       "      <td>0.302727</td>\n",
       "      <td>-0.236021</td>\n",
       "    </tr>\n",
       "    <tr>\n",
       "      <th>LAI</th>\n",
       "      <td>-0.496821</td>\n",
       "      <td>1.000000</td>\n",
       "      <td>0.281634</td>\n",
       "      <td>-0.450016</td>\n",
       "    </tr>\n",
       "    <tr>\n",
       "      <th>DEM</th>\n",
       "      <td>0.302727</td>\n",
       "      <td>0.281634</td>\n",
       "      <td>1.000000</td>\n",
       "      <td>-0.558836</td>\n",
       "    </tr>\n",
       "    <tr>\n",
       "      <th>Precipitation</th>\n",
       "      <td>-0.236021</td>\n",
       "      <td>-0.450016</td>\n",
       "      <td>-0.558836</td>\n",
       "      <td>1.000000</td>\n",
       "    </tr>\n",
       "  </tbody>\n",
       "</table>\n",
       "</div>"
      ],
      "text/plain": [
       "                   NDVI       LAI       DEM  Precipitation\n",
       "NDVI           1.000000 -0.496821  0.302727      -0.236021\n",
       "LAI           -0.496821  1.000000  0.281634      -0.450016\n",
       "DEM            0.302727  0.281634  1.000000      -0.558836\n",
       "Precipitation -0.236021 -0.450016 -0.558836       1.000000"
      ]
     },
     "execution_count": 15,
     "metadata": {},
     "output_type": "execute_result"
    }
   ],
   "source": [
    "# Calculate the correlation matrix\n",
    "corr_matrix = df.corr()\n",
    "corr_matrix"
   ]
  },
  {
   "cell_type": "code",
   "execution_count": 16,
   "metadata": {},
   "outputs": [
    {
     "data": {
      "image/png": "[encoded data removed]",
      "text/plain": [
       "<Figure size 576x432 with 2 Axes>"
      ]
     },
     "metadata": {},
     "output_type": "display_data"
    }
   ],
   "source": [
    "# Create a correlation matrix plot using seaborn\n",
    "sns.set(style=\"white\")\n",
    "plt.figure(figsize=(8, 6))\n",
    "sns.heatmap(corr_matrix, annot=True, cmap=\"coolwarm\", linewidths=.5, vmin=-1, vmax=1)\n",
    "plt.title(\"Correlation Matrix Plot\")\n",
    "plt.show()"
   ]
  },
  {
   "cell_type": "markdown",
   "metadata": {},
   "source": [
    "##### ver 2. GDAL"
   ]
  },
  {
   "cell_type": "code",
   "execution_count": 15,
   "metadata": {},
   "outputs": [],
   "source": [
    "\n",
    "out_path = r'E:\\02_Research\\01_Codes\\04-DAIS\\02_GullyErosion_2023_Spring\\figure_sample'\n",
    "path = r'E:\\02_Research\\01_Codes\\04-DAIS\\02_GullyErosion_2023_Spring\\input_sample'\n",
    "folder_ls = ['continuous']\n",
    "\n",
    "for folder in folder_ls:\n",
    "    arr_ls = []\n",
    "    tif_ls = getFileList_end(os.path.join(path, folder), \".tif\")\n",
    "    os.chdir(os.path.join(path, folder))\n",
    "    raw_rasters = [i[:-4] for i in tif_ls] # raw_rasters = ['20000105_corn_Clay', '20000105_corn_DewTemp']\n",
    "    \n",
    "    ras_df = pd.DataFrame()\n",
    "    nodata_dic = {}\n",
    "    for i in range(len(raw_rasters)):\n",
    "        # get nodata values\n",
    "        ras = gdal.Open(tif_ls[i])\n",
    "        band = ras.GetRasterBand(1)\n",
    "        nodata_val = band.GetNoDataValue()\n",
    "        nodata_dic[raw_rasters[i]] = nodata_val\n",
    "        \n",
    "        # Raster to Dataframe\n",
    "        arr = gdal_array.LoadFile(tif_ls[i])\n",
    "        ras_df[raw_rasters[i]] = arr.flatten()\n",
    "    col_ls = list(ras_df.columns)\n",
    "    for col in col_ls:\n",
    "        ras_df.drop(ras_df[ras_df[col]==nodata_dic[col]].index, inplace=True)\n",
    "        \n",
    "    # Calculate the correlation matrix\n",
    "    corr_matrix = ras_df.corr()\n",
    "    corr_matrix.to_excel(os.path.join(out_path, f\"correl_{folder}.xlsx\"))\n",
    "    \n",
    "    # Create a correlation matrix plot using seaborn\n",
    "    sns.set(style=\"white\")\n",
    "    plt.figure(figsize=(8, 6))\n",
    "    sns.heatmap(corr_matrix, annot=True, cmap=\"coolwarm\", linewidths=.5, vmin=-1, vmax=1)\n",
    "    plt.title(\"Correlation Matrix Plot\")\n",
    "    \n",
    "    # Save the figure as *.png format\n",
    "    out_fig = os.path.join(out_path, f\"correl_{folder}.png\")\n",
    "    plt.savefig(out_fig, dpi = 300)\n",
    "    plt.close() # close a figure window\n",
    "            \n",
    "    \n",
    "print(\"Done\")"
   ]
  },
  {
   "cell_type": "markdown",
   "metadata": {},
   "source": [
    "##### Plot correlation matrix using the excel files"
   ]
  },
  {
   "cell_type": "code",
   "execution_count": 16,
   "metadata": {},
   "outputs": [
    {
     "name": "stdout",
     "output_type": "stream",
     "text": [
      "Done\n"
     ]
    }
   ],
   "source": [
    "path = r'E:\\02_Research\\01_Codes\\04-DAIS\\02_GullyErosion_2023_Spring\\figure_sample'\n",
    "os.chdir(path)\n",
    "excel_ls = getFileList_end(path, \".xlsx\")\n",
    "\n",
    "for excel in excel_ls:\n",
    "    corr_matrix = pd.read_excel(excel, index_col=0)\n",
    "    \n",
    "    # Create a mask for the upper triangle\n",
    "    mask = np.triu(np.ones_like(corr_matrix, dtype=bool))\n",
    "    \n",
    "    # Create a custom diverging colormap\n",
    "    \"\"\"\n",
    "    The sns.diverging_palette() function creates a custom diverging color palette that starts \n",
    "    with one color (230, in this case, a light blue color) and ends with another color (20, in this case, a dark red color).\n",
    "    The as_cmap=True argument tells the function to return a colormap object, which can be used in the heatmap function.\n",
    "    \"\"\"\n",
    "    cmap = sns.diverging_palette(230, 20, as_cmap=True)\n",
    "    \n",
    "    # Create a correlation matrix plot using seaborn\n",
    "    sns.set(style=\"white\")\n",
    "    plt.figure(figsize=(10, 8))\n",
    "    # sns.heatmap(corr_matrix, annot=True, cmap=\"Spectral\", linewidths=.5, vmin=-1, vmax=1)\n",
    "    sns.heatmap(corr_matrix, annot=True, mask=mask, cmap=cmap, linewidths=.5, vmin=-1, vmax=1)\n",
    "    # sns.heatmap(corr_matrix, annot=True, mask=mask, cmap=\"Spectral\", linewidths=.5, vmin=-1, vmax=1)\n",
    "    plt.title(\"Correlation Matrix Plot\")\n",
    "\n",
    "    # Save the figure as *.png format\n",
    "    out_fig = os.path.join(path, f\"{excel[:-5]}_new.png\")\n",
    "    plt.savefig(out_fig, dpi = 300)\n",
    "    plt.close() # close a figure window\n",
    "print(\"Done\")"
   ]
  },
  {
   "cell_type": "markdown",
   "metadata": {},
   "source": [
    "## Study flow\n",
    "1. test collinearity \n",
    "2. extract values of predictors at eorion points and create pseudo-absence (background) points \n",
    "3. feature selection\n",
    "    3.1. correlation coefficient: linear\n",
    "    3.2. mutual_info_classif using 'SelectKBest': non-linear\n",
    "4. train a model\n",
    "5. Compare and evaluate models"
   ]
  },
  {
   "attachments": {},
   "cell_type": "markdown",
   "metadata": {},
   "source": [
    "### Extract values from raster files \n",
    "- extract the values of your predictor variables (NDVI, LAI, elevation, slope, and clay content) at each erosion location from your point file and raster datasets"
   ]
  },
  {
   "cell_type": "markdown",
   "metadata": {},
   "source": []
  }
 ],
 "metadata": {
  "kernelspec": {
   "display_name": "Python 3",
   "language": "python",
   "name": "python3"
  },
  "language_info": {
   "codemirror_mode": {
    "name": "ipython",
    "version": 3
   },
   "file_extension": ".py",
   "mimetype": "text/x-python",
   "name": "python",
   "nbconvert_exporter": "python",
   "pygments_lexer": "ipython3",
   "version": "3.8.8"
  },
  "orig_nbformat": 4,
  "vscode": {
   "interpreter": {
    "hash": "27fa714bbab757a9a81366af7fa04e7f14f1f0d4bfd6c7839f7200264c3af147"
   }
  }
 },
 "nbformat": 4,
 "nbformat_minor": 2
}
